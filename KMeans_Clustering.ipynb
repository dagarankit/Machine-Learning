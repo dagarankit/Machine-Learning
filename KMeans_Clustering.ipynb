{
 "cells": [
  {
   "cell_type": "code",
   "execution_count": 3,
   "metadata": {},
   "outputs": [],
   "source": [
    "import pandas as pd\n",
    "import numpy as np\n",
    "import matplotlib.pyplot as plt\n",
    "import seaborn as sns"
   ]
  },
  {
   "cell_type": "code",
   "execution_count": 5,
   "metadata": {},
   "outputs": [],
   "source": [
    "from sklearn.datasets import make_blobs"
   ]
  },
  {
   "cell_type": "code",
   "execution_count": 7,
   "metadata": {},
   "outputs": [],
   "source": [
    "data=make_blobs(n_samples=200,n_features=2,random_state=101) # dataset for clustering"
   ]
  },
  {
   "cell_type": "code",
   "execution_count": 11,
   "metadata": {},
   "outputs": [
    {
     "data": {
      "text/plain": [
       "(array([[-8.3435654 ,  1.40831354],\n",
       "        [10.00973168,  0.50495368],\n",
       "        [ 9.6155562 , -4.65483854],\n",
       "        [ 9.72533063, -4.39098294],\n",
       "        [ 8.77272448, -0.83732802],\n",
       "        [-7.69643274,  2.9189917 ],\n",
       "        [-8.74216644,  3.65039809],\n",
       "        [11.05526758, -0.93974906],\n",
       "        [-7.26437789,  4.60361226],\n",
       "        [-9.38290896,  2.13704303],\n",
       "        [ 8.33437405, -2.09820322],\n",
       "        [ 8.55912078, -2.03238649],\n",
       "        [ 9.44601856, -7.02625819],\n",
       "        [10.08190782, -5.25140514],\n",
       "        [ 8.83127813, -1.97600837],\n",
       "        [10.89803056, -4.43429661],\n",
       "        [ 7.9513376 , -3.22921336],\n",
       "        [-6.20393598,  2.82581148],\n",
       "        [-6.9690073 ,  3.68727424],\n",
       "        [ 8.51008952, -1.43906323],\n",
       "        [ 9.27373407, -3.95947765],\n",
       "        [-9.71612573,  2.96645169],\n",
       "        [ 7.75787144, -4.78367728],\n",
       "        [-6.82604302,  2.64401437],\n",
       "        [-6.28414857,  1.3657566 ],\n",
       "        [-7.21085602,  2.7167271 ],\n",
       "        [11.04251981, -4.50888078],\n",
       "        [-8.00081331,  2.39655761],\n",
       "        [ 9.12384581, -0.4660602 ],\n",
       "        [ 8.24103069, -5.6420002 ],\n",
       "        [-8.68488791,  2.57708273],\n",
       "        [10.18266663, -7.15619   ],\n",
       "        [-8.96117416,  5.25225938],\n",
       "        [-8.62272515,  2.17976358],\n",
       "        [ 8.71001454, -0.04110226],\n",
       "        [ 8.626385  , -2.13267432],\n",
       "        [ 9.0956367 , -6.9983348 ],\n",
       "        [ 9.44583278, -4.93126358],\n",
       "        [ 8.31030872, -2.20833308],\n",
       "        [-8.39265709,  2.14463296],\n",
       "        [ 8.35129747, -6.72051258],\n",
       "        [-8.06249478,  3.28352021],\n",
       "        [ 7.33326588, -0.39775629],\n",
       "        [ 9.01735368,  0.45406007],\n",
       "        [12.27746207, -2.51923747],\n",
       "        [ 8.58546941, -1.04610824],\n",
       "        [10.50399807, -3.86379635],\n",
       "        [-8.88844805,  3.39969791],\n",
       "        [10.25943125, -2.48431114],\n",
       "        [ 9.22132273, -3.49541868],\n",
       "        [ 9.25382166, -5.99981358],\n",
       "        [-7.16504425,  3.32390226],\n",
       "        [ 8.80928417, -0.47657847],\n",
       "        [ 8.31676453, -1.68845684],\n",
       "        [ 8.44685156, -5.88490656],\n",
       "        [ 9.18836337, -6.22889919],\n",
       "        [-8.65255287,  4.02166067],\n",
       "        [-6.91276428,  5.03429455],\n",
       "        [ 9.72749931, -1.7467815 ],\n",
       "        [10.19868734, -6.73713924],\n",
       "        [-6.74873405,  0.87456792],\n",
       "        [ 9.60906077, -2.40801893],\n",
       "        [-9.32805248,  2.86383772],\n",
       "        [ 9.68603805, -5.69059533],\n",
       "        [ 7.67346187, -6.34022156],\n",
       "        [ 8.72029398, -4.78636423],\n",
       "        [10.62780189,  1.04449772],\n",
       "        [ 8.8463275 ,  0.10282495],\n",
       "        [ 7.83066239, -2.67274528],\n",
       "        [10.79327861, -5.33365561],\n",
       "        [ 7.76006082, -4.67529884],\n",
       "        [ 9.48306514, -1.16870574],\n",
       "        [ 9.75982348, -2.3505308 ],\n",
       "        [ 7.12148578, -2.07501265],\n",
       "        [ 9.58225289, -3.7620855 ],\n",
       "        [10.2018261 , -6.99642539],\n",
       "        [ 8.81141928, -0.94881455],\n",
       "        [ 8.37137284, -5.77364203],\n",
       "        [ 9.40973631, -0.09153722],\n",
       "        [ 9.96326778, -1.44848283],\n",
       "        [-8.13398887,  3.57764877],\n",
       "        [-8.22538075,  3.49799265],\n",
       "        [ 8.61958257, -2.4783706 ],\n",
       "        [10.70354744, -6.87079854],\n",
       "        [10.34515441, -0.31675009],\n",
       "        [ 7.10568182, -5.08113299],\n",
       "        [ 9.8921373 , -6.14185428],\n",
       "        [ 9.94699002, -4.88879846],\n",
       "        [-7.4394583 ,  2.43077702],\n",
       "        [-8.01944506,  2.80618036],\n",
       "        [-9.98553946,  4.44193851],\n",
       "        [10.03358278, -6.222852  ],\n",
       "        [ 8.86738519,  0.13891668],\n",
       "        [-7.45226771,  3.13156956],\n",
       "        [-7.40558623,  1.86332075],\n",
       "        [-8.82278182,  2.55618596],\n",
       "        [ 9.12766912, -5.67844428],\n",
       "        [-6.43774383,  1.72874812],\n",
       "        [-6.70762802,  3.17776217],\n",
       "        [ 8.48762415, -2.89628026]]),\n",
       " array([1, 2, 0, 0, 2, 1, 1, 2, 1, 1, 2, 2, 0, 0, 2, 0, 2, 1, 1, 2, 0, 1,\n",
       "        0, 1, 1, 1, 0, 1, 2, 0, 1, 0, 1, 1, 2, 2, 0, 0, 2, 1, 0, 1, 2, 2,\n",
       "        2, 2, 0, 1, 2, 0, 0, 1, 2, 2, 0, 0, 1, 1, 2, 0, 1, 2, 1, 0, 0, 0,\n",
       "        2, 2, 2, 0, 0, 2, 0, 2, 0, 0, 2, 0, 2, 2, 1, 1, 2, 0, 2, 0, 0, 0,\n",
       "        1, 1, 1, 0, 2, 1, 1, 1, 0, 1, 1, 2]))"
      ]
     },
     "execution_count": 11,
     "metadata": {},
     "output_type": "execute_result"
    }
   ],
   "source": [
    "data"
   ]
  },
  {
   "cell_type": "code",
   "execution_count": 13,
   "metadata": {},
   "outputs": [
    {
     "data": {
      "text/plain": [
       "<matplotlib.collections.PathCollection at 0x1f653fa65c8>"
      ]
     },
     "execution_count": 13,
     "metadata": {},
     "output_type": "execute_result"
    },
    {
     "data": {
      "image/png": "[encoded data removed]",
      "text/plain": [
       "<Figure size 432x288 with 1 Axes>"
      ]
     },
     "metadata": {
      "needs_background": "light"
     },
     "output_type": "display_data"
    }
   ],
   "source": [
    "plt.scatter(data[0][:,0],data[0][:,1],cmap = \"rainbow\")\n"
   ]
  },
  {
   "cell_type": "code",
   "execution_count": 15,
   "metadata": {},
   "outputs": [],
   "source": [
    "from sklearn.cluster import KMeans"
   ]
  },
  {
   "cell_type": "code",
   "execution_count": null,
   "metadata": {},
   "outputs": [],
   "source": [
    "By Default no of clusters 8"
   ]
  },
  {
   "cell_type": "code",
   "execution_count": 17,
   "metadata": {},
   "outputs": [],
   "source": [
    "kmeans=KMeans(n_clusters=4)"
   ]
  },
  {
   "cell_type": "code",
   "execution_count": 19,
   "metadata": {},
   "outputs": [
    {
     "data": {
      "text/plain": [
       "KMeans(algorithm='auto', copy_x=True, init='k-means++', max_iter=300,\n",
       "       n_clusters=4, n_init=10, n_jobs=None, precompute_distances='auto',\n",
       "       random_state=None, tol=0.0001, verbose=0)"
      ]
     },
     "execution_count": 19,
     "metadata": {},
     "output_type": "execute_result"
    }
   ],
   "source": [
    "kmeans.fit(data[0])"
   ]
  },
  {
   "cell_type": "code",
   "execution_count": 22,
   "metadata": {},
   "outputs": [
    {
     "data": {
      "text/plain": [
       "array([[ 9.23784468, -0.40959906],\n",
       "       [-7.92999201,  2.95419077],\n",
       "       [ 9.34439186, -5.71825803],\n",
       "       [ 9.06017542, -2.60386712]])"
      ]
     },
     "execution_count": 22,
     "metadata": {},
     "output_type": "execute_result"
    }
   ],
   "source": [
    "kmeans.cluster_centers_"
   ]
  },
  {
   "cell_type": "code",
   "execution_count": 24,
   "metadata": {},
   "outputs": [
    {
     "data": {
      "text/plain": [
       "array([1, 0, 2, 2, 0, 1, 1, 0, 1, 1, 3, 3, 2, 2, 3, 2, 3, 1, 1, 0, 3, 1,\n",
       "       2, 1, 1, 1, 2, 1, 0, 2, 1, 2, 1, 1, 0, 3, 2, 2, 3, 1, 2, 1, 0, 0,\n",
       "       3, 0, 3, 1, 3, 3, 2, 1, 0, 3, 2, 2, 1, 1, 3, 2, 1, 3, 1, 2, 2, 2,\n",
       "       0, 0, 3, 2, 2, 0, 3, 3, 3, 2, 0, 2, 0, 0, 1, 1, 3, 2, 0, 2, 2, 2,\n",
       "       1, 1, 1, 2, 0, 1, 1, 1, 2, 1, 1, 3])"
      ]
     },
     "execution_count": 24,
     "metadata": {},
     "output_type": "execute_result"
    }
   ],
   "source": [
    "kmeans.labels_"
   ]
  },
  {
   "cell_type": "code",
   "execution_count": 25,
   "metadata": {},
   "outputs": [
    {
     "data": {
      "text/plain": [
       "<matplotlib.collections.PathCollection at 0x1f656095c88>"
      ]
     },
     "execution_count": 25,
     "metadata": {},
     "output_type": "execute_result"
    },
    {
     "data": {
      "image/png": "[encoded data removed]",
      "text/plain": [
       "<Figure size 720x432 with 2 Axes>"
      ]
     },
     "metadata": {
      "needs_background": "light"
     },
     "output_type": "display_data"
    }
   ],
   "source": [
    "f,(ax1,ax2)=plt.subplots(1,2,sharey=True,figsize=(10,6))\n",
    "ax1.set_title(\"K Means\")\n",
    "ax1.scatter(data[0][:,0],data[0][:,1],c=kmeans.labels_,cmap=\"rainbow\")\n",
    "ax2.set_title(\"original\")\n",
    "ax2.scatter(data[0][:,0],data[0][:,1],c=data[1],cmap=\"rainbow\")\n"
   ]
  }
 ],
 "metadata": {
  "kernelspec": {
   "display_name": "Python 3",
   "language": "python",
   "name": "python3"
  },
  "language_info": {
   "codemirror_mode": {
    "name": "ipython",
    "version": 3
   },
   "file_extension": ".py",
   "mimetype": "text/x-python",
   "name": "python",
   "nbconvert_exporter": "python",
   "pygments_lexer": "ipython3",
   "version": "3.7.6"
  }
 },
 "nbformat": 4,
 "nbformat_minor": 4
}
